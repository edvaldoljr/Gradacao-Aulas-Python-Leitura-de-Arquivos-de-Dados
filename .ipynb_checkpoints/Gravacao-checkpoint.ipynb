{
 "cells": [
  {
   "cell_type": "code",
   "execution_count": null,
   "id": "309052a9",
   "metadata": {},
   "outputs": [],
   "source": [
    "# Para gravar em um arquivo txt, devemos abrir o mesmo para gravação “w”\n",
    "# Cuidado, a opção “w” apaga os dados do arquivo se ele existir\n",
    "# Se precisar gravar em um arquivo que já possua dados, e queira fazer tanto \n",
    "#leitura quanto gravação, você poderá abri-lo como “r+”\n",
    "arquivo2 = open()"
   ]
  }
 ],
 "metadata": {
  "kernelspec": {
   "display_name": "Python 3 (ipykernel)",
   "language": "python",
   "name": "python3"
  },
  "language_info": {
   "codemirror_mode": {
    "name": "ipython",
    "version": 3
   },
   "file_extension": ".py",
   "mimetype": "text/x-python",
   "name": "python",
   "nbconvert_exporter": "python",
   "pygments_lexer": "ipython3",
   "version": "3.11.5"
  }
 },
 "nbformat": 4,
 "nbformat_minor": 5
}
