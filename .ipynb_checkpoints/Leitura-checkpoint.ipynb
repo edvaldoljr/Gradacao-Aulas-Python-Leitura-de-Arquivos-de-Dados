{
 "cells": [
  {
   "cell_type": "code",
   "execution_count": 1,
   "id": "bd065f21",
   "metadata": {},
   "outputs": [],
   "source": [
    "#• open(): abrir o arquivo;\n",
    "#• read(): ler os dados do arquivo;\n",
    "#• write(): gravar dados no arquivo;\n",
    "#• seek(): mover o ponteiro do mouse ao início do arquivo;\n",
    "#• readlines(): retornar à lista de linhas do arquivo;\n",
    "#• close(): fazer o arquivo."
   ]
  },
  {
   "cell_type": "code",
   "execution_count": 2,
   "id": "c6ef45c6",
   "metadata": {},
   "outputs": [
    {
     "name": "stdout",
     "output_type": "stream",
     "text": [
      "Python é facil de aprender\n"
     ]
    }
   ],
   "source": [
    "# Abrindo o arquivo para leitura “r” e com a codificação UTF-8\n",
    "arquivo1 = open(\"exemplo1.txt\", \"r\",encoding='utf8')\n",
    "#Para ler os dados do arquivo usamos 'read'\n",
    "print(arquivo1.read())"
   ]
  },
  {
   "cell_type": "code",
   "execution_count": 3,
   "id": "46650ade",
   "metadata": {},
   "outputs": [
    {
     "name": "stdout",
     "output_type": "stream",
     "text": [
      "27\n"
     ]
    }
   ],
   "source": [
    "# Podemos, por exemplo, verificar a quantidade de caracteres do arquivo\n",
    "print(arquivo1.tell())"
   ]
  },
  {
   "cell_type": "code",
   "execution_count": 4,
   "id": "c7dadf2f",
   "metadata": {},
   "outputs": [
    {
     "data": {
      "text/plain": [
       "0"
      ]
     },
     "execution_count": 4,
     "metadata": {},
     "output_type": "execute_result"
    }
   ],
   "source": [
    "# A partir desse momento em que lemos o arquivo, se quisermos ler novamente precisamos mover o ponteiro para o ínicio do arquivo,\n",
    "#fazemos isso com o comando seek()\n",
    "arquivo1.seek(0,0)"
   ]
  },
  {
   "cell_type": "code",
   "execution_count": 5,
   "id": "28ed1e11",
   "metadata": {},
   "outputs": [
    {
     "name": "stdout",
     "output_type": "stream",
     "text": [
      "PYTHON\n"
     ]
    }
   ],
   "source": [
    "# Para ler parte do arquivo, você pode especificar uma quantidade de caracteres, no exemplo a seguir, \n",
    "#lemos somente a palavra Python e ainda deixamos a mesma em letras maiúsculas.\n",
    "print(arquivo1.read(6).upper())"
   ]
  },
  {
   "cell_type": "code",
   "execution_count": null,
   "id": "b88a1842",
   "metadata": {},
   "outputs": [],
   "source": []
  }
 ],
 "metadata": {
  "kernelspec": {
   "display_name": "Python 3 (ipykernel)",
   "language": "python",
   "name": "python3"
  },
  "language_info": {
   "codemirror_mode": {
    "name": "ipython",
    "version": 3
   },
   "file_extension": ".py",
   "mimetype": "text/x-python",
   "name": "python",
   "nbconvert_exporter": "python",
   "pygments_lexer": "ipython3",
   "version": "3.11.5"
  }
 },
 "nbformat": 4,
 "nbformat_minor": 5
}
