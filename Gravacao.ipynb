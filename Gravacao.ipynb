{
 "cells": [
  {
   "cell_type": "code",
   "execution_count": 11,
   "id": "44f7def7",
   "metadata": {},
   "outputs": [
    {
     "data": {
      "text/plain": [
       "6"
      ]
     },
     "execution_count": 11,
     "metadata": {},
     "output_type": "execute_result"
    }
   ],
   "source": [
    "# Para gravar em um arquivo txt, devemos abrir o mesmo para gravação “w”\n",
    "# Cuidado, a opção “w” apaga os dados do arquivo se ele existir\n",
    "# Se precisar gravar em um arquivo que já possua dados, e queira fazer tanto \n",
    "#leitura quanto gravação, você poderá abri-lo como “r+”\n",
    "arquivo2 = open(\"exemplo1.txt\",\"w\")\n",
    "arquivo2.write(\"Python\")"
   ]
  },
  {
   "cell_type": "code",
   "execution_count": 12,
   "id": "971d94ac",
   "metadata": {},
   "outputs": [],
   "source": [
    "# Necessário para fechar e efetivar a gravação\n",
    "arquivo2.close()"
   ]
  },
  {
   "cell_type": "code",
   "execution_count": 14,
   "id": "1fb0f61c",
   "metadata": {},
   "outputs": [
    {
     "name": "stdout",
     "output_type": "stream",
     "text": [
      "Python\n"
     ]
    }
   ],
   "source": [
    "arquivo2 = open(\"exemplo1.txt\", \"r+\")\n",
    "print(arquivo2.read())"
   ]
  },
  {
   "cell_type": "code",
   "execution_count": 15,
   "id": "df07c30f",
   "metadata": {},
   "outputs": [
    {
     "data": {
      "text/plain": [
       "20"
      ]
     },
     "execution_count": 15,
     "metadata": {},
     "output_type": "execute_result"
    }
   ],
   "source": [
    "# Acrescentando conteúdo, como o arquivo foi aberto com r+ podemos gravar também\n",
    "arquivo2.write(\" é facil de aprender\")"
   ]
  },
  {
   "cell_type": "raw",
   "id": "f04e01db",
   "metadata": {},
   "source": [
    "arquivo2.close()"
   ]
  },
  {
   "cell_type": "code",
   "execution_count": 19,
   "id": "d5668afc",
   "metadata": {},
   "outputs": [
    {
     "name": "stdout",
     "output_type": "stream",
     "text": [
      "Python é facil de aprender\n"
     ]
    }
   ],
   "source": [
    "# A partir desse momento em que lemos o arquivo, se quisermos ler novamente precisamos mover o ponteiro para o ínicio do arquivo,\n",
    "#fazemos isso com o comando seek()\n",
    "arquivo2.seek(0,0)\n",
    "arquivo2 =  open(\"exemplo1.txt\", \"r\")\n",
    "print(arquivo2.read())"
   ]
  },
  {
   "cell_type": "code",
   "execution_count": null,
   "id": "4ed62a65",
   "metadata": {},
   "outputs": [],
   "source": []
  }
 ],
 "metadata": {
  "kernelspec": {
   "display_name": "Python 3 (ipykernel)",
   "language": "python",
   "name": "python3"
  },
  "language_info": {
   "codemirror_mode": {
    "name": "ipython",
    "version": 3
   },
   "file_extension": ".py",
   "mimetype": "text/x-python",
   "name": "python",
   "nbconvert_exporter": "python",
   "pygments_lexer": "ipython3",
   "version": "3.11.5"
  }
 },
 "nbformat": 4,
 "nbformat_minor": 5
}
